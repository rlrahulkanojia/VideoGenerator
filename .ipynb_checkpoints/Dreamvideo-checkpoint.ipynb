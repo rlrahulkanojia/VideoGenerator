{
 "cells": [
  {
   "cell_type": "code",
   "execution_count": null,
   "id": "e3c9d844-dffd-44a6-89d3-af3f787867d9",
   "metadata": {},
   "outputs": [],
   "source": []
  },
  {
   "cell_type": "code",
   "execution_count": null,
   "id": "a96844d8-d656-408c-bb7e-8b85ec24a49c",
   "metadata": {},
   "outputs": [],
   "source": []
  },
  {
   "cell_type": "code",
   "execution_count": null,
   "id": "0bbaec06-dd9b-453f-803d-3e9a133798b5",
   "metadata": {},
   "outputs": [],
   "source": [
    "\n",
    "import os\n",
    "import requests\n",
    "api_key = \"sk-proj-pKaugqFY1WJ19hSq71lrT3BlbkFJVxwwYAMxPfQGX7G3eUOi\"\n",
    "os.environ[\"OPENAI_API_KEY\"]=api_key\n",
    "from openai import OpenAI"
   ]
  },
  {
   "cell_type": "code",
   "execution_count": null,
   "id": "a4ab4d70-05d9-43f5-b377-301f8866b8f4",
   "metadata": {},
   "outputs": [],
   "source": [
    "def generate_and_save_image(prompt, filename):\n",
    "    \"\"\"\n",
    "    Generates an image from a prompt using OpenAI's API and saves it locally.\n",
    "\n",
    "    Parameters:\n",
    "    - prompt (str): The prompt to generate the image from.\n",
    "    - filename (str): The local filename to save the image.\n",
    "    \"\"\"\n",
    "    # Call the OpenAI API to generate the image\n",
    "    response = OpenAI().images.generate(\n",
    "      model=\"dall-e-3\",\n",
    "      prompt=prompt,\n",
    "      size=\"1024x1024\",\n",
    "      quality=\"standard\",\n",
    "      n=1,\n",
    "    )\n",
    "\n",
    "    # Get the image URL from the response\n",
    "    image_url = dict(response)['data'][0].url\n",
    "\n",
    "    # Download the image from the URL\n",
    "    image_response = requests.get(image_url)\n",
    "\n",
    "    # Save the image to a file\n",
    "    with open(filename, 'wb') as file:\n",
    "        file.write(image_response.content)\n",
    "\n",
    "    print(f\"Image saved as {filename}\")\n",
    "\n"
   ]
  },
  {
   "cell_type": "code",
   "execution_count": null,
   "id": "fe984122-a1ae-43fc-a380-b528db75f211",
   "metadata": {},
   "outputs": [],
   "source": [
    "# Example usage\n",
    "Image_prompt=\"Futuristic game scene of a war zone.\"\n",
    "filename = \"data/test_images/dreamvideo_image.jpg\"\n",
    "generate_and_save_image(Image_prompt, filename)"
   ]
  },
  {
   "cell_type": "code",
   "execution_count": null,
   "id": "8fd5940f-bf3c-465c-92fa-176cba5fffda",
   "metadata": {},
   "outputs": [],
   "source": [
    "video_prompt=\"Futuristic game scene of a war zone.\"\n",
    "\n",
    "\n",
    "video_prompt=video_prompt[:117]\n",
    "test_data = f\"data/test_images/dreamvideo_image.jpg|||{video_prompt}\"\n",
    "file_path = 'custom_list_dreamvideo.txt'\n",
    "# Open the file in write mode ('w') which will create the file if it doesn't exist\n",
    "with open(file_path, 'w') as file:\n",
    "    # Write the string to the file\n",
    "    file.write(test_data)"
   ]
  },
  {
   "cell_type": "code",
   "execution_count": null,
   "id": "28271d5d-1182-4857-a84b-f413c5dcccb0",
   "metadata": {},
   "outputs": [],
   "source": []
  }
 ],
 "metadata": {
  "kernelspec": {
   "display_name": "Python 3 (ipykernel)",
   "language": "python",
   "name": "python3"
  },
  "language_info": {
   "codemirror_mode": {
    "name": "ipython",
    "version": 3
   },
   "file_extension": ".py",
   "mimetype": "text/x-python",
   "name": "python",
   "nbconvert_exporter": "python",
   "pygments_lexer": "ipython3",
   "version": "3.10.13"
  }
 },
 "nbformat": 4,
 "nbformat_minor": 5
}
