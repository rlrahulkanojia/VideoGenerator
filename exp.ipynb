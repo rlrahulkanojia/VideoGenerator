{
 "cells": [
  {
   "cell_type": "code",
   "execution_count": null,
   "id": "066641a5-1626-4b3f-9807-f4b0824b9514",
   "metadata": {},
   "outputs": [],
   "source": [
    "from gradio_utils import Generator, llm_prompt_generator"
   ]
  },
  {
   "cell_type": "code",
   "execution_count": null,
   "id": "92c5d719-1f0c-404c-93f9-a8a043af9aee",
   "metadata": {},
   "outputs": [],
   "source": [
    "prompt = \"A raining scene with a person sitting under the tree.\""
   ]
  },
  {
   "cell_type": "code",
   "execution_count": null,
   "id": "a218dbdc-beca-4932-b059-c4513effc16f",
   "metadata": {},
   "outputs": [],
   "source": [
    "duration = 1"
   ]
  },
  {
   "cell_type": "code",
   "execution_count": null,
   "id": "71d9fa49-598f-4ee3-83f9-0defa5409235",
   "metadata": {},
   "outputs": [],
   "source": [
    "generated_prompts = llm_prompt_generator(prompt)\n",
    "image_prompt = generated_prompts[\"Image_prompt\"]\n",
    "video_prompt = generated_prompts[\"Video_prompt\"]\n",
    "generator = Generator(\n",
    "            image_prompt=image_prompt,\n",
    "            video_prompt=video_prompt,\n",
    "            file_path=\"gradio_test\"\n",
    "        )\n",
    "generator.run_iterations(duration)"
   ]
  },
  {
   "cell_type": "code",
   "execution_count": null,
   "id": "7d97612e-5e2f-494e-8fcf-6ea0645ce77d",
   "metadata": {},
   "outputs": [],
   "source": [
    "video_prompt"
   ]
  },
  {
   "cell_type": "code",
   "execution_count": null,
   "id": "5e2ee4f9-88df-4049-b93d-18db1cdb9d06",
   "metadata": {},
   "outputs": [],
   "source": []
  }
 ],
 "metadata": {
  "kernelspec": {
   "display_name": "Python 3 (ipykernel)",
   "language": "python",
   "name": "python3"
  },
  "language_info": {
   "codemirror_mode": {
    "name": "ipython",
    "version": 3
   },
   "file_extension": ".py",
   "mimetype": "text/x-python",
   "name": "python",
   "nbconvert_exporter": "python",
   "pygments_lexer": "ipython3",
   "version": "3.10.13"
  }
 },
 "nbformat": 4,
 "nbformat_minor": 5
}
